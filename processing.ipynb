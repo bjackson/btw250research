{
 "metadata": {
  "name": "",
  "signature": "sha256:8a7bc27e67bec4d3dccf2cc128c0d3a3a18cf0d2b966fdb52631ba59dd4ee528"
 },
 "nbformat": 3,
 "nbformat_minor": 0,
 "worksheets": [
  {
   "cells": [
    {
     "cell_type": "code",
     "collapsed": false,
     "input": [
      "from numpy import recfromcsv\n",
      "import os\n",
      "import pandas\n",
      "\n",
      "os.chdir('/Users/brett/Documents/Documents/UIUC/BTW250/btw250research')\n",
      "prelimData = pandas.read_excel('responses.xlsx')\n",
      "\n",
      "filteredData = prelimData[prelimData[\"What year are you in undergraduate school?\"] != \"Not Applicable\"]\n",
      "\n",
      "ckUsers = filteredData[filteredData[\"Have you used CreditKarma?\"] == \"Yes\"]\n",
      "nonCkUsers = filteredData[filteredData[\"Have you used CreditKarma?\"] == \"No\"]\n",
      "nonckUsers = nonCkUsers\n",
      "\n",
      "question = \"What is your gender?\"\n",
      "maleUsers = filteredData[filteredData[question] == \"Male\"]\n",
      "femaleUsers = filteredData[filteredData[question] == \"Female\"]\n",
      "males = maleUsers\n",
      "females = femaleUsers\n",
      "\n",
      "question = \"What year are you in undergraduate school?\"\n",
      "underclassmen = filteredData[(filteredData[question] == \"Freshman\") | (filteredData[question] == \"Sophomore\")]\n",
      "upperclassmen = filteredData[(filteredData[question] == \"Junior\") | (filteredData[question] == \"Senior\")]\n",
      "\n",
      "question = \"What is your credit score?\"\n",
      "badCreditUnder = filteredData[(filteredData[question] == \"550 or below\") | (filteredData[question] == \"550-649\")]\n",
      "goodCreditUnder = filteredData[(filteredData[question] == \"650-699\") | (filteredData[question] == \"700-749\") | (filteredData[question] == \"750+\")]\n",
      "\n",
      "question = \"Annual Household Income\"\n",
      "richPeople = filteredData[filteredData[question] == \"$150,000+\"]\n",
      "poorPeople = filteredData[filteredData[question] == \"Less than $32,000\"]\n",
      "\n",
      "question = \"What's your employment status?\"\n",
      "employed = filteredData[(filteredData[question] == \"Full-time employed\") | (filteredData[question] == \"Part-time employed\")]\n",
      "unemployed = filteredData[(filteredData[question] == \"I am not employed\")]\n",
      "\n"
     ],
     "language": "python",
     "metadata": {},
     "outputs": [],
     "prompt_number": 118
    },
    {
     "cell_type": "code",
     "collapsed": false,
     "input": [
      "ckUsersPctCredBureau = float(len(ckUsers[ckUsers[\"Which of these is not a primary credit bureau?\"] == \"CallCredit\"])) / len(ckUsers)\n",
      "nonCkUsersPctCredBureau = float(len(nonCkUsers[nonCkUsers[\"Which of these is not a primary credit bureau?\"] == \"CallCredit\"])) / len(nonCkUsers)\n",
      "\n",
      "print(\"CK who got credit bureau right: \" + str(ckUsersPctCredBureau))\n",
      "print(\"nonCK who got credit bureau right: \" + str(nonCkUsersPctCredBureau))"
     ],
     "language": "python",
     "metadata": {},
     "outputs": [
      {
       "output_type": "stream",
       "stream": "stdout",
       "text": [
        "CK who got credit bureau right: 0.861111111111\n",
        "nonCK who got credit bureau right: 0.655737704918\n"
       ]
      }
     ],
     "prompt_number": 68
    },
    {
     "cell_type": "code",
     "collapsed": false,
     "input": [
      "ckUsersKnowScore = float(len(ckUsers[ckUsers[\"What is your credit score?\"] != \"I don't know\"])) / len(ckUsers)\n",
      "nonckUsersKnowScore = float(len(nonCkUsers[nonCkUsers[\"What is your credit score?\"] != \"I don't know\"])) / len(nonCkUsers)\n",
      "\n",
      "print(\"CK who know credit score: \" + str(ckUsersKnowScore))\n",
      "print(\"nonCK who know credit score: \" + str(nonckUsersKnowScore))"
     ],
     "language": "python",
     "metadata": {},
     "outputs": [
      {
       "output_type": "stream",
       "stream": "stdout",
       "text": [
        "CK who know credit score: 0.972222222222\n",
        "nonCK who know credit score: 0.44262295082\n"
       ]
      }
     ],
     "prompt_number": 69
    },
    {
     "cell_type": "code",
     "collapsed": false,
     "input": [
      "column = \"How long does a bill sent to collections stay on your credit report?\"\n",
      "answer = \"7 years\"\n",
      "\n",
      "ckUsersScore = float(len(ckUsers[ckUsers[column] == answer])) / len(ckUsers)\n",
      "nonckUsersScore = float(len(nonCkUsers[nonCkUsers[column] == answer])) / len(nonCkUsers)\n",
      "\n",
      "print(\"CK who know about collections: \" + str(ckUsersScore))\n",
      "print(\"nonCK who know collections: \" + str(nonckUsersScore))"
     ],
     "language": "python",
     "metadata": {},
     "outputs": [
      {
       "output_type": "stream",
       "stream": "stdout",
       "text": [
        "CK who know about collections: 0.222222222222\n",
        "nonCK who know collections: 0.196721311475\n"
       ]
      }
     ],
     "prompt_number": 75
    },
    {
     "cell_type": "code",
     "collapsed": false,
     "input": [
      "column = \"Which of these is not a primary credit bureau?\"\n",
      "answer = \"CallCredit\"\n",
      "\n",
      "maleUsersScore = float(len(maleUsers[maleUsers[column] == answer])) / len(maleUsers)\n",
      "femaleUsersScore = float(len(femaleUsers[femaleUsers[column] == answer])) / len(femaleUsers)\n",
      "\n",
      "print(\"male who know about credbur: \" + str(maleUsersScore))\n",
      "print(\"female who know crebur: \" + str(femaleUsersScore))"
     ],
     "language": "python",
     "metadata": {},
     "outputs": [
      {
       "output_type": "stream",
       "stream": "stdout",
       "text": [
        "male who know about credbur: 0.763888888889\n",
        "female who know crebur: 0.619047619048\n"
       ]
      }
     ],
     "prompt_number": 77
    },
    {
     "cell_type": "code",
     "collapsed": false,
     "input": [
      "column = \"What is your credit score?\"\n",
      "answer = \"I don't know\"\n",
      "\n",
      "maleUsersScore = float(len(maleUsers[maleUsers[column] != answer])) / len(maleUsers)\n",
      "femaleUsersScore = float(len(femaleUsers[femaleUsers[column] != answer])) / len(femaleUsers)\n",
      "\n",
      "print(\"male who know about credbur: \" + str(maleUsersScore))\n",
      "print(\"female who know crebur: \" + str(femaleUsersScore))"
     ],
     "language": "python",
     "metadata": {},
     "outputs": [
      {
       "output_type": "stream",
       "stream": "stdout",
       "text": [
        "male who know about credbur: 0.652777777778\n",
        "female who know crebur: 0.619047619048\n"
       ]
      }
     ],
     "prompt_number": 78
    },
    {
     "cell_type": "code",
     "collapsed": false,
     "input": [
      "column = \"How long does a bill sent to collections stay on your credit report?\"\n",
      "answer = \"7 years\"\n",
      "\n",
      "maleUsersScore = float(len(maleUsers[maleUsers[column] == answer])) / len(maleUsers)\n",
      "femaleUsersScore = float(len(femaleUsers[femaleUsers[column] == answer])) / len(femaleUsers)\n",
      "\n",
      "print(\"male who know about credbur: \" + str(maleUsersScore))\n",
      "print(\"female who know crebur: \" + str(femaleUsersScore))"
     ],
     "language": "python",
     "metadata": {},
     "outputs": [
      {
       "output_type": "stream",
       "stream": "stdout",
       "text": [
        "male who know about credbur: 0.222222222222\n",
        "female who know crebur: 0.142857142857\n"
       ]
      }
     ],
     "prompt_number": 79
    },
    {
     "cell_type": "code",
     "collapsed": false,
     "input": [
      "column = \"Which of these is not a primary credit bureau?\"\n",
      "answer = \"CallCredit\"\n",
      "\n",
      "underScore = float(len(underclassmen[underclassmen[column] == answer])) / len(underclassmen)\n",
      "upperScore = float(len(upperclassmen[upperclassmen[column] == answer])) / len(upperclassmen)\n",
      "\n",
      "print(\"male who know about credbur: \" + str(underScore))\n",
      "print(\"female who know crebur: \" + str(upperScore))"
     ],
     "language": "python",
     "metadata": {},
     "outputs": [
      {
       "output_type": "stream",
       "stream": "stdout",
       "text": [
        "male who know about credbur: 0.72972972973\n",
        "female who know crebur: 0.733333333333\n"
       ]
      }
     ],
     "prompt_number": 91
    },
    {
     "cell_type": "code",
     "collapsed": false,
     "input": [
      "column = \"What is your credit score?\"\n",
      "answer = \"I don't know\"\n",
      "\n",
      "underScore = float(len(underclassmen[underclassmen[column] != answer])) / len(underclassmen)\n",
      "upperScore = float(len(upperclassmen[upperclassmen[column] != answer])) / len(upperclassmen)\n",
      "\n",
      "print(\"male who know about credbur: \" + str(underScore))\n",
      "print(\"female who know crebur: \" + str(upperScore))"
     ],
     "language": "python",
     "metadata": {},
     "outputs": [
      {
       "output_type": "stream",
       "stream": "stdout",
       "text": [
        "male who know about credbur: 0.540540540541\n",
        "female who know crebur: 0.7\n"
       ]
      }
     ],
     "prompt_number": 92
    },
    {
     "cell_type": "code",
     "collapsed": false,
     "input": [
      "question = \"What is your credit score?\"\n",
      "badCreditUnder = len(underclassmen[(underclassmen[question] == \"550 or below\") | (underclassmen[question] == \"550-649\")]) / float(len(underclassmen[underclassmen[column] != \"I don't know\"]))\n",
      "goodCreditUnder = len(underclassmen[(underclassmen[question] == \"650-699\") | (underclassmen[question] == \"700-749\") | (underclassmen[question] == \"750+\")]) / float(len(underclassmen[underclassmen[column] != \"I don't know\"]))\n",
      "\n",
      "question = \"What is your credit score?\"\n",
      "badCreditUpper = len(upperclassmen[(upperclassmen[question] == \"550 or below\") | (upperclassmen[question] == \"550-649\")]) / float(len(upperclassmen[upperclassmen[column] != \"I don't know\"]))\n",
      "goodCreditUpper= len(upperclassmen[(upperclassmen[question] == \"650-699\") | (upperclassmen[question] == \"700-749\") | (upperclassmen[question] == \"750+\")]) / float(len(upperclassmen[upperclassmen[column] != \"I don't know\"]))\n",
      "\n",
      "print(badCreditUnder)\n",
      "print(goodCreditUnder)\n",
      "\n",
      "print(badCreditUpper)\n",
      "print(goodCreditUpper)"
     ],
     "language": "python",
     "metadata": {},
     "outputs": [
      {
       "output_type": "stream",
       "stream": "stdout",
       "text": [
        "0.2\n",
        "0.8\n",
        "0.142857142857\n",
        "0.857142857143\n"
       ]
      }
     ],
     "prompt_number": 98
    },
    {
     "cell_type": "code",
     "collapsed": false,
     "input": [
      "question = \"What is your credit score?\"\n",
      "badCreditPoor = len(poorPeople[(poorPeople[question] == \"550 or below\") | (poorPeople[question] == \"550-649\")]) / float(len(poorPeople[poorPeople[column] != \"I don't know\"]))\n",
      "goodCreditPoor = len(poorPeople[(poorPeople[question] == \"650-699\") | (poorPeople[question] == \"700-749\") | (poorPeople[question] == \"750+\")]) / float(len(poorPeople[poorPeople[column] != \"I don't know\"]))\n",
      "\n",
      "question = \"What is your credit score?\"\n",
      "badCreditRich = len(richPeople[(richPeople[question] == \"550 or below\") | (richPeople[question] == \"550-649\")]) / float(len(richPeople[richPeople[column] != \"I don't know\"]))\n",
      "goodCreditRich = len(richPeople[(richPeople[question] == \"650-699\") | (richPeople[question] == \"700-749\") | (richPeople[question] == \"750+\")]) / float(len(richPeople[richPeople[column] != \"I don't know\"]))\n",
      "\n",
      "print(badCreditPoor)\n",
      "print(goodCreditPoor)\n",
      "\n",
      "print(badCreditRich)\n",
      "print(goodCreditRich)"
     ],
     "language": "python",
     "metadata": {},
     "outputs": [
      {
       "output_type": "stream",
       "stream": "stdout",
       "text": [
        "0.384615384615\n",
        "0.615384615385\n",
        "0.0769230769231\n",
        "0.923076923077\n"
       ]
      }
     ],
     "prompt_number": 103
    },
    {
     "cell_type": "code",
     "collapsed": false,
     "input": [
      "column = \"How long does a bill sent to collections stay on your credit report?\"\n",
      "answer = \"7 years\"\n",
      "\n",
      "poorscore = float(len(poorPeople[poorPeople[column] == answer])) / len(poorPeople)\n",
      "richscore = float(len(richPeople[richPeople[column] == answer])) / len(richPeople)\n",
      "\n",
      "print(\"male who know about credbur: \" + str(poorscore))\n",
      "print(\"female who know crebur: \" + str(richscore))"
     ],
     "language": "python",
     "metadata": {},
     "outputs": [
      {
       "output_type": "stream",
       "stream": "stdout",
       "text": [
        "male who know about credbur: 0.3\n",
        "female who know crebur: 0.1\n"
       ]
      }
     ],
     "prompt_number": 104
    },
    {
     "cell_type": "code",
     "collapsed": false,
     "input": [
      "column = \"Which of these is not a primary credit bureau?\"\n",
      "answer = \"CallCredit\"\n",
      "\n",
      "poorscore = float(len(poorPeople[poorPeople[column] == answer])) / len(poorPeople)\n",
      "richscore = float(len(richPeople[richPeople[column] == answer])) / len(richPeople)\n",
      "\n",
      "print(\"male who know about credbur: \" + str(poorscore))\n",
      "print(\"female who know crebur: \" + str(richscore))"
     ],
     "language": "python",
     "metadata": {},
     "outputs": [
      {
       "output_type": "stream",
       "stream": "stdout",
       "text": [
        "male who know about credbur: 0.85\n",
        "female who know crebur: 0.55\n"
       ]
      }
     ],
     "prompt_number": 105
    },
    {
     "cell_type": "code",
     "collapsed": false,
     "input": [
      "column = \"What is your credit score?\"\n",
      "answer = \"I don't know\"\n",
      "\n",
      "poorscore = float(len(poorPeople[poorPeople[column] != answer])) / len(poorPeople)\n",
      "richscore = float(len(richPeople[richPeople[column] != answer])) / len(richPeople)\n",
      "\n",
      "print(\"male who know about credbur: \" + str(poorscore))\n",
      "print(\"female who know crebur: \" + str(richscore))"
     ],
     "language": "python",
     "metadata": {},
     "outputs": [
      {
       "output_type": "stream",
       "stream": "stdout",
       "text": [
        "male who know about credbur: 0.65\n",
        "female who know crebur: 0.65\n"
       ]
      }
     ],
     "prompt_number": 106
    },
    {
     "cell_type": "code",
     "collapsed": false,
     "input": [
      "column = \"How long does a bill sent to collections stay on your credit report?\"\n",
      "answer = \"7 years\"\n",
      "\n",
      "poorscore = float(len(employed[employed[column] == answer])) / len(employed)\n",
      "richscore = float(len(unemployed[unemployed[column] == answer])) / len(unemployed)\n",
      "\n",
      "print(\"male who know about credbur: \" + str(poorscore))\n",
      "print(\"female who know crebur: \" + str(richscore))\n",
      "\n"
     ],
     "language": "python",
     "metadata": {},
     "outputs": [
      {
       "output_type": "stream",
       "stream": "stdout",
       "text": [
        "male who know about credbur: 0.220588235294\n",
        "female who know crebur: 0.172413793103\n"
       ]
      }
     ],
     "prompt_number": 109
    },
    {
     "cell_type": "code",
     "collapsed": false,
     "input": [
      "column = \"Which of these is not a primary credit bureau?\"\n",
      "answer = \"CallCredit\"\n",
      "\n",
      "poorscore = float(len(employed[employed[column] == answer])) / len(employed)\n",
      "richscore = float(len(unemployed[unemployed[column] == answer])) / len(unemployed)\n",
      "\n",
      "print(\"male who know about credbur: \" + str(poorscore))\n",
      "print(\"female who know crebur: \" + str(richscore))"
     ],
     "language": "python",
     "metadata": {},
     "outputs": [
      {
       "output_type": "stream",
       "stream": "stdout",
       "text": [
        "male who know about credbur: 0.808823529412\n",
        "female who know crebur: 0.551724137931\n"
       ]
      }
     ],
     "prompt_number": 110
    },
    {
     "cell_type": "code",
     "collapsed": false,
     "input": [
      "column = \"What is your credit score?\"\n",
      "answer = \"I don't know\"\n",
      "\n",
      "poorscore = float(len(employed[employed[column] != answer])) / len(employed)\n",
      "richscore = float(len(unemployed[unemployed[column] != answer])) / len(unemployed)\n",
      "\n",
      "print(\"male who know about credbur: \" + str(poorscore))\n",
      "print(\"female who know crebur: \" + str(richscore))"
     ],
     "language": "python",
     "metadata": {},
     "outputs": [
      {
       "output_type": "stream",
       "stream": "stdout",
       "text": [
        "male who know about credbur: 0.647058823529\n",
        "female who know crebur: 0.620689655172\n"
       ]
      }
     ],
     "prompt_number": 111
    },
    {
     "cell_type": "code",
     "collapsed": false,
     "input": [
      "question = \"What is your credit score?\"\n",
      "badunem = len(unemployed[(unemployed[question] == \"550 or below\") | (unemployed[question] == \"550-649\")]) / float(len(unemployed[unemployed[column] != \"I don't know\"]))\n",
      "goodunem = len(unemployed[(unemployed[question] == \"650-699\") | (unemployed[question] == \"700-749\") | (unemployed[question] == \"750+\")]) / float(len(unemployed[unemployed[column] != \"I don't know\"]))\n",
      "\n",
      "question = \"What is your credit score?\"\n",
      "badem = len(employed[(employed[question] == \"550 or below\") | (employed[question] == \"550-649\")]) / float(len(employed[employed[column] != \"I don't know\"]))\n",
      "goodem = len(employed[(employed[question] == \"650-699\") | (employed[question] == \"700-749\") | (employed[question] == \"750+\")]) / float(len(employed[employed[column] != \"I don't know\"]))\n",
      "\n",
      "print(badunem)\n",
      "print(goodunem)\n",
      "\n",
      "print(badem)\n",
      "print(goodem)"
     ],
     "language": "python",
     "metadata": {},
     "outputs": [
      {
       "output_type": "stream",
       "stream": "stdout",
       "text": [
        "0.166666666667\n",
        "0.833333333333\n",
        "0.159090909091\n",
        "0.840909090909\n"
       ]
      }
     ],
     "prompt_number": 113
    },
    {
     "cell_type": "code",
     "collapsed": false,
     "input": [
      "question = \"What is your credit score?\"\n",
      "badunem = len(ckUsers[(ckUsers[question] == \"550 or below\") | (ckUsers[question] == \"550-649\")]) / float(len(ckUsers[ckUsers[column] != \"I don't know\"]))\n",
      "goodunem = len(ckUsers[(ckUsers[question] == \"650-699\") | (ckUsers[question] == \"700-749\") | (ckUsers[question] == \"750+\")]) / float(len(ckUsers[ckUsers[column] != \"I don't know\"]))\n",
      "\n",
      "question = \"What is your credit score?\"\n",
      "badem = len(nonckUsers[(nonckUsers[question] == \"550 or below\") | (nonckUsers[question] == \"550-649\")]) / float(len(nonckUsers[nonckUsers[column] != \"I don't know\"]))\n",
      "goodem = len(nonckUsers[(nonckUsers[question] == \"650-699\") | (nonckUsers[question] == \"700-749\") | (nonckUsers[question] == \"750+\")]) / float(len(nonckUsers[nonckUsers[column] != \"I don't know\"]))\n",
      "\n",
      "print(badunem)\n",
      "print(goodunem)\n",
      "\n",
      "print(badem)\n",
      "print(goodem)"
     ],
     "language": "python",
     "metadata": {},
     "outputs": [
      {
       "output_type": "stream",
       "stream": "stdout",
       "text": [
        "0.114285714286\n",
        "0.885714285714\n",
        "0.222222222222\n",
        "0.777777777778\n"
       ]
      }
     ],
     "prompt_number": 116
    },
    {
     "cell_type": "code",
     "collapsed": false,
     "input": [
      "question = \"What is your credit score?\"\n",
      "badunem = len(males[(males[question] == \"550 or below\") | (males[question] == \"550-649\")]) / float(len(males[males[column] != \"I don't know\"]))\n",
      "goodunem = len(males[(males[question] == \"650-699\") | (males[question] == \"700-749\") | (males[question] == \"750+\")]) / float(len(males[males[column] != \"I don't know\"]))\n",
      "\n",
      "question = \"What is your credit score?\"\n",
      "badem = len(females[(females[question] == \"550 or below\") | (females[question] == \"550-649\")]) / float(len(females[females[column] != \"I don't know\"]))\n",
      "goodem = len(females[(females[question] == \"650-699\") | (females[question] == \"700-749\") | (females[question] == \"750+\")]) / float(len(females[females[column] != \"I don't know\"]))\n",
      "\n",
      "print(badunem)\n",
      "print(goodunem)\n",
      "\n",
      "print(badem)\n",
      "print(goodem)"
     ],
     "language": "python",
     "metadata": {},
     "outputs": [
      {
       "output_type": "stream",
       "stream": "stdout",
       "text": [
        "0.106382978723\n",
        "0.893617021277\n",
        "0.307692307692\n",
        "0.692307692308\n"
       ]
      }
     ],
     "prompt_number": 119
    },
    {
     "cell_type": "code",
     "collapsed": false,
     "input": [
      "column = \"How long does a bill sent to collections stay on your credit report?\"\n",
      "answer = \"7 years\"\n",
      "\n",
      "underScore = float(len(underclassmen[underclassmen[column] == answer])) / len(underclassmen)\n",
      "upperScore = float(len(upperclassmen[upperclassmen[column] == answer])) / len(upperclassmen)\n",
      "\n",
      "print(\"male who know about credbur: \" + str(underScore))\n",
      "print(\"female who know crebur: \" + str(upperScore))"
     ],
     "language": "python",
     "metadata": {},
     "outputs": [
      {
       "output_type": "stream",
       "stream": "stdout",
       "text": [
        "male who know about credbur: 0.243243243243\n",
        "female who know crebur: 0.183333333333\n"
       ]
      }
     ],
     "prompt_number": 120
    },
    {
     "cell_type": "code",
     "collapsed": false,
     "input": [],
     "language": "python",
     "metadata": {},
     "outputs": []
    }
   ],
   "metadata": {}
  }
 ]
}